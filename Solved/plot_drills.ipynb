{
 "cells": [
  {
   "cell_type": "code",
   "execution_count": null,
   "metadata": {},
   "outputs": [],
   "source": [
    "%matplotlib notebook"
   ]
  },
  {
   "cell_type": "code",
   "execution_count": null,
   "metadata": {},
   "outputs": [],
   "source": [
    "# Import Dependencies\n",
    "import numpy as np\n",
    "import matplotlib.pyplot as plt"
   ]
  },
  {
   "cell_type": "code",
   "execution_count": null,
   "metadata": {},
   "outputs": [],
   "source": [
    "# Data Set 1\n",
    "gyms = [\"Crunch\", \"Planet Fitness\", \"NY Sports Club\", \"Rickie's Gym\"]\n",
    "members = [49, 92, 84, 53]"
   ]
  },
  {
   "cell_type": "code",
   "execution_count": null,
   "metadata": {},
   "outputs": [],
   "source": [
    "# Create a basic bar chart without annotations. \n",
    "x_axis = np.arange(0, len(gyms))\n",
    "plt.bar(x_axis, members)\n",
    "#plt.bar(x_axis, members, facecolor=\"red\")"
   ]
  },
  {
   "cell_type": "code",
   "execution_count": null,
   "metadata": {},
   "outputs": [],
   "source": [
    "# Data Set 1 - Bar chart\n",
    "plt.title(\"NYC Gym Popularity\")\n",
    "plt.xlabel(\"Gym Name\")\n",
    "plt.ylabel(\"Number of Members\")\n",
    "plt.xlim(-0.75, len(gyms)-.25)\n",
    "plt.ylim(0, max(members) + 5)"
   ]
  },
  {
   "cell_type": "code",
   "execution_count": null,
   "metadata": {},
   "outputs": [],
   "source": [
    "plt.xticks(x_axis, gyms)\n",
    "plt.show()"
   ]
  },
  {
   "cell_type": "code",
   "execution_count": null,
   "metadata": {},
   "outputs": [],
   "source": [
    "# Data Set 1 - Pie chart \n",
    "plt.pie(members, labels=gyms)\n",
    "plt.show()"
   ]
  },
  {
   "cell_type": "code",
   "execution_count": null,
   "metadata": {},
   "outputs": [],
   "source": [
    "# Data Set 1 - Pie chart \n",
    "gyms = [\"Crunch\", \"Planet Fitness\", \"NY Sports Club\", \"Rickie's Gym\"]\n",
    "members = [49, 92, 84, 53]\n",
    "colors = [\"yellowgreen\", \"red\", \"lightcoral\", \"lightskyblue\"]\n",
    "explode = (0, 0.05, 0, 0)\n",
    "\n",
    "plt.title(\"NYC Gym Popularity\")\n",
    "plt.pie(members, explode=explode, colors=colors,\n",
    "        labels=gyms, autopct=\"%1.1f%%\", startangle=90)\n",
    "plt.axis(\"equal\")\n",
    "plt.show()"
   ]
  },
  {
   "cell_type": "code",
   "execution_count": null,
   "metadata": {},
   "outputs": [],
   "source": [
    "# Data Set 2\n",
    "seconds = [0,  10,  20,  30,  40,  50,  60,  70,  80,  90, 100, 110, 120, 130, 140, 150]\n",
    "coaster_speed = [0, 10, 15, 65, 75, 70, 60, 68, 55, 70, 70, 55, 50, 30, 10, 0]"
   ]
  },
  {
   "cell_type": "code",
   "execution_count": null,
   "metadata": {},
   "outputs": [],
   "source": [
    "# Data Set 2 - Basic Line chart \n",
    "plt.plot(seconds, coaster_speed)"
   ]
  },
  {
   "cell_type": "code",
   "execution_count": null,
   "metadata": {},
   "outputs": [],
   "source": [
    "# Data Set 2 - Enhanced Line chart \n",
    "plt.title(\"Roller Coaster Speed During Run\")\n",
    "plt.xlabel(\"Speed (mph)\")\n",
    "plt.ylabel(\"Time (secs)\")\n",
    "\n",
    "plt.xlim(-5, 160)\n",
    "plt.ylim(-5, 80)\n",
    "\n",
    "plt.plot(seconds, coaster_speed, marker=\"o\", color=\"blue\", linewidth=1)\n",
    "plt.show()"
   ]
  },
  {
   "cell_type": "code",
   "execution_count": null,
   "metadata": {},
   "outputs": [],
   "source": [
    "# Data Set 3\n",
    "mpg = [18, 15, 18, 16, 17, 15, 14, 14, 14, 15, 15, 14, 15, \n",
    "       14, 24, 22, 18, 21, 27, 26, 25, 24, 25, 26, 21, 10, 10, 11, 9]\n",
    "horsepower = [130, 165, 150, 150, 140, 198, 220, 215, 225, 190, 170, 160, 150, \n",
    "              225, 95, 95, 97, 85,88, 46, 87, 90, 95, 113, 90, 215, 200, 210, 193]"
   ]
  },
  {
   "cell_type": "code",
   "execution_count": null,
   "metadata": {
    "scrolled": false
   },
   "outputs": [],
   "source": [
    "# Data Set 3 - Basic Scatter chart \n",
    "plt.scatter(mpg, horsepower)"
   ]
  },
  {
   "cell_type": "code",
   "execution_count": null,
   "metadata": {},
   "outputs": [],
   "source": [
    "# Data Set 3 - Enhanced Scatter chart \n",
    "plt.title(\"Car MPG vs Horsepower\")\n",
    "plt.xlabel(\"Horsepower\")\n",
    "plt.ylabel(\"MPG\")\n",
    "\n",
    "plt.xlim(0, 250)\n",
    "plt.ylim(5, 35)\n",
    "\n",
    "plt.scatter(horsepower, mpg)\n",
    "plt.show()"
   ]
  },
  {
   "cell_type": "code",
   "execution_count": null,
   "metadata": {},
   "outputs": [],
   "source": [
    "cylinders  = [8, 8, 8, 8, 8, 8, 8, 8, 8, 8, 8, 8, 8, 8, \n",
    "              4, 6, 6, 6, 4, 4, 4, 4, 4, 4, 6, 8, 8, 8, 8]\n",
    "cylinders_adj = [item * 10 for item in cylinders]"
   ]
  },
  {
   "cell_type": "code",
   "execution_count": null,
   "metadata": {},
   "outputs": [],
   "source": [
    "# Data Set 4 - Enhanced Scatter chart \n",
    "plt.title(\"Car MPG vs Horsepower\")\n",
    "plt.xlabel(\"Horsepower\")\n",
    "plt.ylabel(\"MPG\")\n",
    "\n",
    "plt.xlim(0, 250)\n",
    "plt.ylim(5, 35)\n",
    "\n",
    "plt.scatter(horsepower, mpg, marker=\"o\", facecolors=\"red\", edgecolors=\"black\",\n",
    "            s=cylinders_adj, label=\"No. Cylinders\")\n",
    "plt.legend()\n",
    "plt.show()"
   ]
  },
  {
   "cell_type": "code",
   "execution_count": null,
   "metadata": {},
   "outputs": [],
   "source": []
  }
 ],
 "metadata": {
  "kernelspec": {
   "display_name": "PythonData",
   "language": "python",
   "name": "pythondata"
  },
  "language_info": {
   "codemirror_mode": {
    "name": "ipython",
    "version": 3
   },
   "file_extension": ".py",
   "mimetype": "text/x-python",
   "name": "python",
   "nbconvert_exporter": "python",
   "pygments_lexer": "ipython3",
   "version": "3.8.5"
  }
 },
 "nbformat": 4,
 "nbformat_minor": 2
}
